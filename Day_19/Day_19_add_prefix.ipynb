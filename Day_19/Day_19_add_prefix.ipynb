{
 "cells": [
  {
   "cell_type": "code",
   "execution_count": 1,
   "metadata": {},
   "outputs": [],
   "source": [
    "import os\n",
    "import csv\n",
    "import pandas as pd"
   ]
  },
  {
   "cell_type": "code",
   "execution_count": 2,
   "metadata": {},
   "outputs": [],
   "source": [
    "def change_png_name(file_name,extension):\n",
    "    for png_name in os.listdir(file_name):\n",
    "        if png_name.endswith(\".png\"):\n",
    "            if png_name.startswith(extension):\n",
    "                break\n",
    "            else:\n",
    "                new_png_name = extension + png_name\n",
    "                os.rename(os.path.join(file_name, png_name), os.path.join(file_name, new_png_name))"
   ]
  },
  {
   "cell_type": "code",
   "execution_count": 3,
   "metadata": {},
   "outputs": [],
   "source": [
    "def change_column_name(file_path, column_name, extension):\n",
    "    df = pd.read_csv(file_path)\n",
    "    first_column = df[column_name].iloc[0]\n",
    "    if isinstance(first_column, str):\n",
    "        first_column = df[column_name].iloc[0]\n",
    "    else:\n",
    "        first_column = df[column_name].iloc[0].astype(str)\n",
    "        \n",
    "    if first_column.startswith(extension):\n",
    "        print('Extension already exists')\n",
    "    else:\n",
    "        str_column_name = df[column_name].astype(str)\n",
    "        df[column_name] = extension + str_column_name\n",
    "        df.to_csv(file_path, index=False)\n"
   ]
  },
  {
   "cell_type": "code",
   "execution_count": 4,
   "metadata": {},
   "outputs": [],
   "source": [
    "#file_name = 'changed_alexa'\n",
    "#extension = 'A_'\n",
    "#change_png_name(file_name, extension)"
   ]
  },
  {
   "cell_type": "code",
   "execution_count": 5,
   "metadata": {},
   "outputs": [],
   "source": [
    "file_path = '1tabularalexa.csv'\n",
    "column_name = 'Screenshot_ID'\n",
    "extension = 'A_'\n",
    "change_column_name(file_path,column_name, extension)"
   ]
  },
  {
   "cell_type": "code",
   "execution_count": 6,
   "metadata": {},
   "outputs": [
    {
     "data": {
      "text/plain": [
       "0         A_0\n",
       "1         A_1\n",
       "2         A_2\n",
       "3         A_3\n",
       "4         A_4\n",
       "        ...  \n",
       "419    A_1044\n",
       "420    A_1045\n",
       "421    A_1051\n",
       "422    A_1055\n",
       "423    A_1058\n",
       "Name: Screenshot_ID, Length: 424, dtype: object"
      ]
     },
     "execution_count": 6,
     "metadata": {},
     "output_type": "execute_result"
    }
   ],
   "source": [
    "df = pd.read_csv('1tabularalexa.csv')\n",
    "df['Screenshot_ID']"
   ]
  }
 ],
 "metadata": {
  "kernelspec": {
   "display_name": "Python 3.11.4 64-bit",
   "language": "python",
   "name": "python3"
  },
  "language_info": {
   "codemirror_mode": {
    "name": "ipython",
    "version": 3
   },
   "file_extension": ".py",
   "mimetype": "text/x-python",
   "name": "python",
   "nbconvert_exporter": "python",
   "pygments_lexer": "ipython3",
   "version": "3.11.4"
  },
  "orig_nbformat": 4,
  "vscode": {
   "interpreter": {
    "hash": "aee8b7b246df8f9039afb4144a1f6fd8d2ca17a180786b69acc140d282b71a49"
   }
  }
 },
 "nbformat": 4,
 "nbformat_minor": 2
}
